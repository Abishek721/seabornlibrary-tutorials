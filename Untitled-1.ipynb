{
 "cells": [
  {
   "cell_type": "code",
   "execution_count": 60,
   "metadata": {},
   "outputs": [
    {
     "name": "stdout",
     "output_type": "stream",
     "text": [
      "+----------+----+----------+------+\n",
      "|      Name| age|experience|salary|\n",
      "+----------+----+----------+------+\n",
      "|     krish|  34|        10| 30000|\n",
      "|sudharshan|  15|         8| 25000|\n",
      "|     suuny|  25|         4| 20000|\n",
      "|      paul|  58|         1| 15000|\n",
      "|    harsha|  55|         5| 18100|\n",
      "|      null|  23|         2| 40000|\n",
      "|    mahesh|null|      null| 40000|\n",
      "|      null|  34|        10|380000|\n",
      "|      null|  36|      null|  null|\n",
      "+----------+----+----------+------+\n",
      "\n"
     ]
    }
   ],
   "source": [
    "from pyspark.sql import SparkSession\n",
    "from pyspark.sql.functions import*\n",
    "spark = SparkSession.builder.appName('practise').getOrCreate()\n",
    "df_pyspark = spark.read.csv('py_details.csv', header=True, inferSchema=True)\n",
    "df_pyspark.show()\n"
   ]
  },
  {
   "cell_type": "code",
   "execution_count": null,
   "metadata": {},
   "outputs": [],
   "source": []
  },
  {
   "cell_type": "code",
   "execution_count": 61,
   "metadata": {},
   "outputs": [
    {
     "name": "stdout",
     "output_type": "stream",
     "text": [
      "+----------+----+----------+------+\n",
      "|      Name| age|experience|salary|\n",
      "+----------+----+----------+------+\n",
      "|     krish|  34|        10| 30000|\n",
      "|sudharshan|  15|         8| 25000|\n",
      "|     suuny|  25|         4| 20000|\n",
      "|      paul|  58|         1| 15000|\n",
      "|    harsha|  55|         5| 18100|\n",
      "|      null|  23|         2| 40000|\n",
      "|    mahesh|null|      null| 40000|\n",
      "|      null|  34|        10|380000|\n",
      "|      null|  36|      null|  null|\n",
      "+----------+----+----------+------+\n",
      "\n"
     ]
    }
   ],
   "source": [
    "df_pyspark.show()"
   ]
  },
  {
   "cell_type": "code",
   "execution_count": 62,
   "metadata": {},
   "outputs": [
    {
     "name": "stdout",
     "output_type": "stream",
     "text": [
      "+----+----------+------+\n",
      "| age|      name|salary|\n",
      "+----+----------+------+\n",
      "|  34|     krish| 30000|\n",
      "|  15|sudharshan| 25000|\n",
      "|  25|     suuny| 20000|\n",
      "|  58|      paul| 15000|\n",
      "|  55|    harsha| 18100|\n",
      "|  23|      null| 40000|\n",
      "|null|    mahesh| 40000|\n",
      "|  34|      null|380000|\n",
      "|  36|      null|  null|\n",
      "+----+----------+------+\n",
      "\n"
     ]
    }
   ],
   "source": [
    "df_pyspark.select('age','name','salary').show()\n"
   ]
  },
  {
   "cell_type": "code",
   "execution_count": 63,
   "metadata": {},
   "outputs": [
    {
     "name": "stdout",
     "output_type": "stream",
     "text": [
      "+----------+---+----------+------+\n",
      "|      Name|age|experience|salary|\n",
      "+----------+---+----------+------+\n",
      "|     krish| 34|        10| 30000|\n",
      "|sudharshan| 15|         8| 25000|\n",
      "|     suuny| 25|         4| 20000|\n",
      "|      paul| 58|         1| 15000|\n",
      "|    harsha| 55|         5| 18100|\n",
      "+----------+---+----------+------+\n",
      "\n"
     ]
    }
   ],
   "source": [
    "df_pyspark.na.drop().show()"
   ]
  },
  {
   "cell_type": "code",
   "execution_count": 64,
   "metadata": {},
   "outputs": [
    {
     "name": "stdout",
     "output_type": "stream",
     "text": [
      "+----------+----+----------+------+------------------------+\n",
      "|      Name| age|experience|salary|experience after two yrs|\n",
      "+----------+----+----------+------+------------------------+\n",
      "|     krish|  34|        10| 30000|                      12|\n",
      "|sudharshan|  15|         8| 25000|                      10|\n",
      "|     suuny|  25|         4| 20000|                       6|\n",
      "|      paul|  58|         1| 15000|                       3|\n",
      "|    harsha|  55|         5| 18100|                       7|\n",
      "|      null|  23|         2| 40000|                       4|\n",
      "|    mahesh|null|      null| 40000|                    null|\n",
      "|      null|  34|        10|380000|                      12|\n",
      "|      null|  36|      null|  null|                    null|\n",
      "+----------+----+----------+------+------------------------+\n",
      "\n"
     ]
    }
   ],
   "source": [
    "df_pyspark.withColumn('experience after two yrs',df_pyspark['experience']+2).show()"
   ]
  },
  {
   "cell_type": "code",
   "execution_count": 65,
   "metadata": {},
   "outputs": [
    {
     "name": "stdout",
     "output_type": "stream",
     "text": [
      "+----------+----------+------+\n",
      "|      Name|experience|salary|\n",
      "+----------+----------+------+\n",
      "|     krish|        10| 30000|\n",
      "|sudharshan|         8| 25000|\n",
      "|     suuny|         4| 20000|\n",
      "|      paul|         1| 15000|\n",
      "|    harsha|         5| 18100|\n",
      "|      null|         2| 40000|\n",
      "|    mahesh|      null| 40000|\n",
      "|      null|        10|380000|\n",
      "|      null|      null|  null|\n",
      "+----------+----------+------+\n",
      "\n"
     ]
    }
   ],
   "source": [
    "df_pyspark.drop('age').show()"
   ]
  },
  {
   "cell_type": "code",
   "execution_count": 66,
   "metadata": {},
   "outputs": [
    {
     "name": "stdout",
     "output_type": "stream",
     "text": [
      "+----------+-------+----------+------+\n",
      "|      Name|age_new|experience|salary|\n",
      "+----------+-------+----------+------+\n",
      "|     krish|     34|        10| 30000|\n",
      "|sudharshan|     15|         8| 25000|\n",
      "|     suuny|     25|         4| 20000|\n",
      "|      paul|     58|         1| 15000|\n",
      "|    harsha|     55|         5| 18100|\n",
      "|      null|     23|         2| 40000|\n",
      "|    mahesh|   null|      null| 40000|\n",
      "|      null|     34|        10|380000|\n",
      "|      null|     36|      null|  null|\n",
      "+----------+-------+----------+------+\n",
      "\n"
     ]
    }
   ],
   "source": [
    "##renaming the column\n",
    "df_pyspark.withColumnRenamed('age','age_new').show()"
   ]
  },
  {
   "cell_type": "code",
   "execution_count": 67,
   "metadata": {},
   "outputs": [],
   "source": [
    "from pyspark.sql import SparkSession\n",
    "spark=SparkSession.builder.appName('practise2').getOrCreate()"
   ]
  },
  {
   "cell_type": "code",
   "execution_count": 68,
   "metadata": {},
   "outputs": [
    {
     "name": "stdout",
     "output_type": "stream",
     "text": [
      "+----------+----+----------+------+\n",
      "|      Name| age|experience|salary|\n",
      "+----------+----+----------+------+\n",
      "|     krish|  34|        10| 30000|\n",
      "|sudharshan|  15|         8| 25000|\n",
      "|     suuny|  25|         4| 20000|\n",
      "|      paul|  58|         1| 15000|\n",
      "|    harsha|  55|         5| 18100|\n",
      "|      null|  23|         2| 40000|\n",
      "|    mahesh|null|      null| 40000|\n",
      "|      null|  34|        10|380000|\n",
      "|      null|  36|      null|  null|\n",
      "+----------+----+----------+------+\n",
      "\n"
     ]
    }
   ],
   "source": [
    "df_pyspark= spark.read.csv('py_details.csv',header=True,inferSchema=True)\n",
    "df_pyspark.show()"
   ]
  },
  {
   "cell_type": "code",
   "execution_count": 69,
   "metadata": {},
   "outputs": [
    {
     "name": "stdout",
     "output_type": "stream",
     "text": [
      "+----------+---+----------+------+\n",
      "|      Name|age|experience|salary|\n",
      "+----------+---+----------+------+\n",
      "|     krish| 34|        10| 30000|\n",
      "|sudharshan| 15|         8| 25000|\n",
      "|     suuny| 25|         4| 20000|\n",
      "|      paul| 58|         1| 15000|\n",
      "|    harsha| 55|         5| 18100|\n",
      "+----------+---+----------+------+\n",
      "\n"
     ]
    }
   ],
   "source": [
    "##how is any\n",
    "df_pyspark.na.drop().show()"
   ]
  },
  {
   "cell_type": "code",
   "execution_count": 70,
   "metadata": {},
   "outputs": [
    {
     "name": "stdout",
     "output_type": "stream",
     "text": [
      "+----------+----+----------+------+\n",
      "|      Name| age|experience|salary|\n",
      "+----------+----+----------+------+\n",
      "|     krish|  34|        10| 30000|\n",
      "|sudharshan|  15|         8| 25000|\n",
      "|     suuny|  25|         4| 20000|\n",
      "|      paul|  58|         1| 15000|\n",
      "|    harsha|  55|         5| 18100|\n",
      "|      null|  23|         2| 40000|\n",
      "|    mahesh|null|      null| 40000|\n",
      "|      null|  34|        10|380000|\n",
      "+----------+----+----------+------+\n",
      "\n"
     ]
    }
   ],
   "source": [
    "## threshlold\n",
    "df_pyspark.na.drop(thresh=2).show()"
   ]
  },
  {
   "cell_type": "code",
   "execution_count": 71,
   "metadata": {},
   "outputs": [
    {
     "name": "stdout",
     "output_type": "stream",
     "text": [
      "+----------+----+----------+------+\n",
      "|      Name| age|experience|salary|\n",
      "+----------+----+----------+------+\n",
      "|     krish|  34|        10| 30000|\n",
      "|sudharshan|  15|         8| 25000|\n",
      "|     suuny|  25|         4| 20000|\n",
      "|      paul|  58|         1| 15000|\n",
      "|    harsha|  55|         5| 18100|\n",
      "|      null|  23|         2| 40000|\n",
      "|    mahesh|null|      null| 40000|\n",
      "|      null|  34|        10|380000|\n",
      "+----------+----+----------+------+\n",
      "\n"
     ]
    }
   ],
   "source": [
    "##subset\n",
    "df_pyspark.na.drop(how='any',subset=['salary']).show()"
   ]
  },
  {
   "cell_type": "code",
   "execution_count": 79,
   "metadata": {},
   "outputs": [
    {
     "name": "stdout",
     "output_type": "stream",
     "text": [
      "+----------+----+----------+------+\n",
      "|      Name| age|experience|salary|\n",
      "+----------+----+----------+------+\n",
      "|     krish|  34|        10| 30000|\n",
      "|sudharshan|  15|         8| 25000|\n",
      "|     suuny|  25|         4| 20000|\n",
      "|      paul|  58|         1| 15000|\n",
      "|    harsha|  55|         5| 18100|\n",
      "|      null|  23|         2| 40000|\n",
      "|    mahesh|null|      null| 40000|\n",
      "|      null|  34|        10|380000|\n",
      "|      null|  36|      null|  null|\n",
      "+----------+----+----------+------+\n",
      "\n"
     ]
    }
   ],
   "source": [
    "df_pyspark.na.fill('missing values','salary').show()"
   ]
  },
  {
   "cell_type": "code",
   "execution_count": 80,
   "metadata": {},
   "outputs": [
    {
     "name": "stdout",
     "output_type": "stream",
     "text": [
      "+----------+----+----------+------+\n",
      "|      Name| age|experience|salary|\n",
      "+----------+----+----------+------+\n",
      "|     krish|  34|        10| 30000|\n",
      "|sudharshan|  15|         8| 25000|\n",
      "|     suuny|  25|         4| 20000|\n",
      "|      paul|  58|         1| 15000|\n",
      "|    harsha|  55|         5| 18100|\n",
      "|      null|  23|         2| 40000|\n",
      "|    mahesh|null|      null| 40000|\n",
      "|      null|  34|        10|380000|\n",
      "|      null|  36|      null|  null|\n",
      "+----------+----+----------+------+\n",
      "\n"
     ]
    }
   ],
   "source": [
    "df_pyspark.show()"
   ]
  },
  {
   "cell_type": "code",
   "execution_count": 91,
   "metadata": {},
   "outputs": [],
   "source": [
    "from pyspark.ml.feature import Imputer\n",
    "Imputer=Imputer(\n",
    "    inputCols=['age','experience','salary'],\n",
    "    outputCols=['{}_imput'.format(c) for c in ['age','experience','salary']]\n",
    ").setStrategy('median')"
   ]
  },
  {
   "cell_type": "code",
   "execution_count": 92,
   "metadata": {},
   "outputs": [
    {
     "name": "stdout",
     "output_type": "stream",
     "text": [
      "+----------+----+----------+------+---------+----------------+------------+\n",
      "|      Name| age|experience|salary|age_imput|experience_imput|salary_imput|\n",
      "+----------+----+----------+------+---------+----------------+------------+\n",
      "|     krish|  34|        10| 30000|       34|              10|       30000|\n",
      "|sudharshan|  15|         8| 25000|       15|               8|       25000|\n",
      "|     suuny|  25|         4| 20000|       25|               4|       20000|\n",
      "|      paul|  58|         1| 15000|       58|               1|       15000|\n",
      "|    harsha|  55|         5| 18100|       55|               5|       18100|\n",
      "|      null|  23|         2| 40000|       23|               2|       40000|\n",
      "|    mahesh|null|      null| 40000|       34|               5|       40000|\n",
      "|      null|  34|        10|380000|       34|              10|      380000|\n",
      "|      null|  36|      null|  null|       36|               5|       25000|\n",
      "+----------+----+----------+------+---------+----------------+------------+\n",
      "\n"
     ]
    }
   ],
   "source": [
    "Imputer.fit(df_pyspark).transform(df_pyspark).show()"
   ]
  },
  {
   "cell_type": "code",
   "execution_count": 114,
   "metadata": {},
   "outputs": [
    {
     "name": "stdout",
     "output_type": "stream",
     "text": [
      "+------+---+\n",
      "|  name|age|\n",
      "+------+---+\n",
      "|  paul| 58|\n",
      "|harsha| 55|\n",
      "+------+---+\n",
      "\n"
     ]
    }
   ],
   "source": [
    "##filter operation\n",
    "df_pyspark.filter(~(df_pyspark[\"salary\"]>=20000)).select('name','age').show()"
   ]
  },
  {
   "cell_type": "code",
   "execution_count": null,
   "metadata": {},
   "outputs": [],
   "source": []
  },
  {
   "cell_type": "code",
   "execution_count": null,
   "metadata": {},
   "outputs": [],
   "source": []
  },
  {
   "cell_type": "code",
   "execution_count": null,
   "metadata": {},
   "outputs": [],
   "source": []
  }
 ],
 "metadata": {
  "kernelspec": {
   "display_name": "Python 3",
   "language": "python",
   "name": "python3"
  },
  "language_info": {
   "codemirror_mode": {
    "name": "ipython",
    "version": 3
   },
   "file_extension": ".py",
   "mimetype": "text/x-python",
   "name": "python",
   "nbconvert_exporter": "python",
   "pygments_lexer": "ipython3",
   "version": "3.11.1"
  },
  "orig_nbformat": 4,
  "vscode": {
   "interpreter": {
    "hash": "de47f5c92c0ee6f12a59a5613ac5feff6aab19ddff207ba0b3964cced08c4ccc"
   }
  }
 },
 "nbformat": 4,
 "nbformat_minor": 2
}
